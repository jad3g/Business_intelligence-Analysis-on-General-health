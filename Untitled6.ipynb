{
  "nbformat": 4,
  "nbformat_minor": 0,
  "metadata": {
    "colab": {
      "provenance": [],
      "authorship_tag": "ABX9TyMF7Xzem+AOQ3m+Httk3KK4",
      "include_colab_link": true
    },
    "kernelspec": {
      "name": "python3",
      "display_name": "Python 3"
    },
    "language_info": {
      "name": "python"
    }
  },
  "cells": [
    {
      "cell_type": "markdown",
      "metadata": {
        "id": "view-in-github",
        "colab_type": "text"
      },
      "source": [
        "<a href=\"https://colab.research.google.com/github/jad3g/Business_intelligence-Analysis-on-General-health/blob/Data-Analysis/Untitled6.ipynb\" target=\"_parent\"><img src=\"https://colab.research.google.com/assets/colab-badge.svg\" alt=\"Open In Colab\"/></a>"
      ]
    },
    {
      "cell_type": "code",
      "execution_count": 1,
      "metadata": {
        "colab": {
          "base_uri": "https://localhost:8080/"
        },
        "id": "3AyUQvyR6VNZ",
        "outputId": "93fe90ad-f069-4bca-80fb-8d857725a6fa"
      },
      "outputs": [
        {
          "output_type": "stream",
          "name": "stdout",
          "text": [
            "55\n"
          ]
        }
      ],
      "source": [
        "#counter\n",
        "my_list = [1,2,3,4,5,6,7,8,9,10]\n",
        "\n",
        "counter = 0\n",
        "for item in my_list:\n",
        "  counter = counter + item\n",
        "print(counter)"
      ]
    },
    {
      "cell_type": "code",
      "source": [
        "picture = [\n",
        "    [0,0,0,1,0,0,0],\n",
        "    [0,0,1,1,1,0,0],\n",
        "    [0,1,1,1,1,1,0],\n",
        "    [1,1,1,1,1,1,1],\n",
        "    [0,0,0,1,0,0,0],\n",
        "    [0,0,0,1,0,0,0]\n",
        "]\n",
        "for row in picture:\n",
        "   for pixel in row:\n",
        "      if (pixel == 1):\n",
        "       print('*', end='')\n",
        "   else:\n",
        "    print('', end='')\n",
        "   print('')"
      ],
      "metadata": {
        "colab": {
          "base_uri": "https://localhost:8080/"
        },
        "id": "xxcibkc8CMlv",
        "outputId": "9e38090f-c40f-4c01-e320-378aef167c71"
      },
      "execution_count": 18,
      "outputs": [
        {
          "output_type": "stream",
          "name": "stdout",
          "text": [
            "*\n",
            "***\n",
            "*****\n",
            "*******\n",
            "*\n",
            "*\n"
          ]
        }
      ]
    },
    {
      "cell_type": "code",
      "source": [
        "i = 0\n",
        "while i < 50:\n",
        "  print(i)\n",
        "  i += 1\n",
        "else:\n",
        "  print('done with all the work')\n"
      ],
      "metadata": {
        "colab": {
          "base_uri": "https://localhost:8080/"
        },
        "id": "9bRn0uri6lPM",
        "outputId": "3d41c549-6ec6-4657-ab9c-5d0f24a886bc"
      },
      "execution_count": 4,
      "outputs": [
        {
          "output_type": "stream",
          "name": "stdout",
          "text": [
            "0\n",
            "1\n",
            "2\n",
            "3\n",
            "4\n",
            "5\n",
            "6\n",
            "7\n",
            "8\n",
            "9\n",
            "10\n",
            "11\n",
            "12\n",
            "13\n",
            "14\n",
            "15\n",
            "16\n",
            "17\n",
            "18\n",
            "19\n",
            "20\n",
            "21\n",
            "22\n",
            "23\n",
            "24\n",
            "25\n",
            "26\n",
            "27\n",
            "28\n",
            "29\n",
            "30\n",
            "31\n",
            "32\n",
            "33\n",
            "34\n",
            "35\n",
            "36\n",
            "37\n",
            "38\n",
            "39\n",
            "40\n",
            "41\n",
            "42\n",
            "43\n",
            "44\n",
            "45\n",
            "46\n",
            "47\n",
            "48\n",
            "49\n",
            "done with all the work\n"
          ]
        }
      ]
    },
    {
      "cell_type": "code",
      "source": [
        "def sum(num1, num2):\n",
        "  def another_func(n1, n2):\n",
        "    return n1 + n2\n",
        "  return another_func(num1, num2)\n",
        "\n",
        "\n",
        "total = sum(10, 20)\n",
        "print (total)"
      ],
      "metadata": {
        "colab": {
          "base_uri": "https://localhost:8080/"
        },
        "id": "9hYeMTVAaRr-",
        "outputId": "caa6ace0-7cd6-47fe-8419-3283d5a871d8"
      },
      "execution_count": 22,
      "outputs": [
        {
          "output_type": "stream",
          "name": "stdout",
          "text": [
            "total\n"
          ]
        }
      ]
    },
    {
      "cell_type": "code",
      "source": [
        "def checkDriverAge(age = 0):\n",
        "    age = input(\"what is your age\")\n",
        "    if int(age) < 18:\n",
        "       print(\"sorry, you are a wee too young to drive. power off\")\n",
        "    elif int(age) > 18:\n",
        "       print(\"power on. lets ride\")\n",
        "    elif int(age) == 18:\n",
        "       print(\"congrats on ur first ride\")\n",
        "\n",
        "checkDriverAge(92)\n"
      ],
      "metadata": {
        "colab": {
          "base_uri": "https://localhost:8080/"
        },
        "id": "iyi2a1Ln-Kuq",
        "outputId": "c4f42132-d22a-4115-dc51-073fbf39b341"
      },
      "execution_count": 35,
      "outputs": [
        {
          "output_type": "stream",
          "name": "stdout",
          "text": [
            "what is your age54\n",
            "power on. lets ride\n"
          ]
        }
      ]
    },
    {
      "cell_type": "code",
      "source": [],
      "metadata": {
        "id": "6VVnXg7QcYgZ"
      },
      "execution_count": null,
      "outputs": []
    }
  ]
}